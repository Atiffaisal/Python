{
  "nbformat": 4,
  "nbformat_minor": 0,
  "metadata": {
    "colab": {
      "name": "Assignment",
      "provenance": [],
      "collapsed_sections": [],
      "authorship_tag": "ABX9TyOboPra95hcMuSTh7Rq3XqH",
      "include_colab_link": true
    },
    "kernelspec": {
      "display_name": "Python 3",
      "name": "python3"
    },
    "language_info": {
      "name": "python"
    }
  },
  "cells": [
    {
      "cell_type": "markdown",
      "metadata": {
        "id": "view-in-github",
        "colab_type": "text"
      },
      "source": [
        "<a href=\"https://colab.research.google.com/github/Atiffaisal/Python/blob/main/Assignment.ipynb\" target=\"_parent\"><img src=\"https://colab.research.google.com/assets/colab-badge.svg\" alt=\"Open In Colab\"/></a>"
      ]
    },
    {
      "cell_type": "code",
      "metadata": {
        "colab": {
          "base_uri": "https://localhost:8080/"
        },
        "id": "lwLraI_xcss-",
        "outputId": "8d8c084d-f1b1-4e13-82b2-69e3a7a05693"
      },
      "source": [
        "print(\"which is the largest number 1, 2, 3\")\n",
        "greaternumber=int(input(\"enter greater number1,2,3\\n\"))\n",
        "if(3>2):\n",
        " print(\"3 is greatest\")\n",
        "elif 2>1 :\n",
        " print(\"2 is greatest\")\n",
        "elif 1>2 :\n",
        " print(\"1 is greatest\")\n",
        "else :\n",
        " print(\"anyone is greatest\")"
      ],
      "execution_count": null,
      "outputs": [
        {
          "output_type": "stream",
          "text": [
            "which is the largest number 1, 2, 3\n",
            "enter greater number1,2,3\n",
            "1\n",
            "3 is greatest\n"
          ],
          "name": "stdout"
        }
      ]
    },
    {
      "cell_type": "code",
      "metadata": {
        "colab": {
          "base_uri": "https://localhost:8080/"
        },
        "id": "58xtPlFNh1gV",
        "outputId": "e7be4dc9-c5cf-4572-8bcd-f2053c34f4be"
      },
      "source": [
        "even=2\n",
        "odd=3\n",
        "if(2,3):\n",
        " print(\"2 is even and 3 is odd\")\n",
        "else:\n",
        "  print(\"2 is odd and 3 is even\")"
      ],
      "execution_count": null,
      "outputs": [
        {
          "output_type": "stream",
          "name": "stdout",
          "text": [
            "2 is even and 3 is odd\n"
          ]
        }
      ]
    },
    {
      "cell_type": "code",
      "metadata": {
        "colab": {
          "base_uri": "https://localhost:8080/"
        },
        "id": "pxLpwPFFrmkg",
        "outputId": "cf0a345a-df18-45b3-c099-87783c99a755"
      },
      "source": [
        " number = 20\n",
        " \n",
        "while number <= 30:\n",
        "  print(number)\n",
        "  number +=1\n",
        "  pass"
      ],
      "execution_count": null,
      "outputs": [
        {
          "output_type": "stream",
          "text": [
            "20\n",
            "21\n",
            "22\n",
            "23\n",
            "24\n",
            "25\n",
            "26\n",
            "27\n",
            "28\n",
            "29\n",
            "30\n"
          ],
          "name": "stdout"
        }
      ]
    },
    {
      "cell_type": "code",
      "metadata": {
        "colab": {
          "base_uri": "https://localhost:8080/"
        },
        "id": "LX-ajMpqrpMw",
        "outputId": "c058ab63-e47f-4c2a-a4f6-47deebfc12aa"
      },
      "source": [
        " for num in range(400, 424):\n",
        "  if num%2 == 0: \n",
        "    print(num)"
      ],
      "execution_count": null,
      "outputs": [
        {
          "output_type": "stream",
          "text": [
            "400\n",
            "402\n",
            "404\n",
            "406\n",
            "408\n",
            "410\n",
            "412\n",
            "414\n",
            "416\n",
            "418\n",
            "420\n",
            "422\n"
          ],
          "name": "stdout"
        }
      ]
    }
  ]
}