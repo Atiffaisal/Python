{
  "nbformat": 4,
  "nbformat_minor": 0,
  "metadata": {
    "colab": {
      "name": "Assignment operators-210507",
      "provenance": [],
      "collapsed_sections": [],
      "include_colab_link": true
    },
    "kernelspec": {
      "name": "python3",
      "display_name": "Python 3"
    },
    "language_info": {
      "name": "python"
    }
  },
  "cells": [
    {
      "cell_type": "markdown",
      "metadata": {
        "id": "view-in-github",
        "colab_type": "text"
      },
      "source": [
        "<a href=\"https://colab.research.google.com/github/Atiffaisal/Python/blob/main/Assignment_operators_210507.ipynb\" target=\"_parent\"><img src=\"https://colab.research.google.com/assets/colab-badge.svg\" alt=\"Open In Colab\"/></a>"
      ]
    },
    {
      "cell_type": "code",
      "metadata": {
        "colab": {
          "base_uri": "https://localhost:8080/"
        },
        "id": "TTtG7ev4lbyh",
        "outputId": "632b4379-d1e1-465e-917f-481faede2511"
      },
      "source": [
        "c=4\n",
        "a=2\n",
        "c+=a #c=c+a\n",
        "print(\"addition of a and c is\" , c)\n",
        "c=4\n",
        "a=2\n",
        "c-=a #c=c-a\n",
        "print(\"substaction of c and a is\",c)\n",
        "c=4\n",
        "a=2\n",
        "a*=c #a=a*c\n",
        "print(\"multipication of c and a is\", c)\n",
        "c=4\n",
        "a=2\n",
        "c/=a #\n",
        "print(\"division of c by a is\", c)\n",
        "c=4\n",
        "a=2\n",
        "c%=a\n",
        "print(\"modulus of c and a is\", c)\n",
        "c=4\n",
        "a=2\n",
        "c**=a # c=c to power a\n",
        "print(\"exponent of c to power a is\", c)\n",
        "c=4\n",
        "a=2\n",
        "c//=a\n",
        "print(\"floor division of c is\", c)"
      ],
      "execution_count": null,
      "outputs": [
        {
          "output_type": "stream",
          "text": [
            "addition of a and c is 6\n",
            "substaction of c and a is 2\n",
            "multipication of c and a is 4\n",
            "division of c by a is 2.0\n",
            "modulus of c and a is 0\n",
            "exponent of c to power a is 16\n",
            "floor division of c is 2\n"
          ],
          "name": "stdout"
        }
      ]
    },
    {
      "cell_type": "code",
      "metadata": {
        "id": "1cHPZr02u523"
      },
      "source": [
        ""
      ],
      "execution_count": null,
      "outputs": []
    }
  ]
}