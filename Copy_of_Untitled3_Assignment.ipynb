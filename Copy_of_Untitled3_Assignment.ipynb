{
  "nbformat": 4,
  "nbformat_minor": 0,
  "metadata": {
    "colab": {
      "name": "Copy of Untitled3.Assignment",
      "provenance": [],
      "authorship_tag": "ABX9TyNdw/s8CO/JYMmt1NATOCH8",
      "include_colab_link": true
    },
    "kernelspec": {
      "display_name": "Python 3",
      "name": "python3"
    },
    "language_info": {
      "name": "python"
    }
  },
  "cells": [
    {
      "cell_type": "markdown",
      "metadata": {
        "id": "view-in-github",
        "colab_type": "text"
      },
      "source": [
        "<a href=\"https://colab.research.google.com/github/Atiffaisal/Python/blob/main/Copy_of_Untitled3_Assignment.ipynb\" target=\"_parent\"><img src=\"https://colab.research.google.com/assets/colab-badge.svg\" alt=\"Open In Colab\"/></a>"
      ]
    },
    {
      "cell_type": "code",
      "metadata": {
        "colab": {
          "base_uri": "https://localhost:8080/"
        },
        "id": "lwLraI_xcss-",
        "outputId": "8d8c084d-f1b1-4e13-82b2-69e3a7a05693"
      },
      "source": [
        "print(\"which is the largest number 1, 2, 3\")\n",
        "greaternumber=int(input(\"enter greater number1,2,3\\n\"))\n",
        "if(3>2):\n",
        " print(\"3 is greatest\")\n",
        "elif 2>1 :\n",
        " print(\"2 is greatest\")\n",
        "elif 1>2 :\n",
        " print(\"1 is greatest\")\n",
        "else :\n",
        " print(\"anyone is greatest\")"
      ],
      "execution_count": null,
      "outputs": [
        {
          "output_type": "stream",
          "text": [
            "which is the largest number 1, 2, 3\n",
            "enter greater number1,2,3\n",
            "1\n",
            "3 is greatest\n"
          ],
          "name": "stdout"
        }
      ]
    },
    {
      "cell_type": "code",
      "metadata": {
        "colab": {
          "base_uri": "https://localhost:8080/"
        },
        "id": "58xtPlFNh1gV",
        "outputId": "71aa7ee4-feee-4841-cd35-d635c7bfc13d"
      },
      "source": [
        "even=2\n",
        "odd=3\n",
        "if(2,3):\n",
        " print(\"2 is even and 3 is odd\")\n",
        "else:\n",
        "  print(\"2 is even and 3 is odd\")"
      ],
      "execution_count": null,
      "outputs": [
        {
          "output_type": "stream",
          "text": [
            "2 is even and 3 is odd\n"
          ],
          "name": "stdout"
        }
      ]
    },
    {
      "cell_type": "code",
      "metadata": {
        "colab": {
          "base_uri": "https://localhost:8080/"
        },
        "id": "pxLpwPFFrmkg",
        "outputId": "cf0a345a-df18-45b3-c099-87783c99a755"
      },
      "source": [
        " number = 20\n",
        " \n",
        "while number <= 30:\n",
        "  print(number)\n",
        "  number +=1\n",
        "  pass"
      ],
      "execution_count": null,
      "outputs": [
        {
          "output_type": "stream",
          "text": [
            "20\n",
            "21\n",
            "22\n",
            "23\n",
            "24\n",
            "25\n",
            "26\n",
            "27\n",
            "28\n",
            "29\n",
            "30\n"
          ],
          "name": "stdout"
        }
      ]
    },
    {
      "cell_type": "code",
      "metadata": {
        "colab": {
          "base_uri": "https://localhost:8080/"
        },
        "id": "LX-ajMpqrpMw",
        "outputId": "c058ab63-e47f-4c2a-a4f6-47deebfc12aa"
      },
      "source": [
        " for num in range(400, 424):\n",
        "  if num%2 == 0: \n",
        "    print(num)"
      ],
      "execution_count": null,
      "outputs": [
        {
          "output_type": "stream",
          "text": [
            "400\n",
            "402\n",
            "404\n",
            "406\n",
            "408\n",
            "410\n",
            "412\n",
            "414\n",
            "416\n",
            "418\n",
            "420\n",
            "422\n"
          ],
          "name": "stdout"
        }
      ]
    },
    {
      "cell_type": "code",
      "metadata": {
        "id": "UXgLCE2WsMPO"
      },
      "source": [
        " #If-elif-else=given three integers, check the largest number out of three numbers\n",
        "#if-else=check weather given number is odd or even using, if-else\n",
        "#while loop=print numbers between 20 and 30 using while loop, inclusive of both numbers\n",
        "print all even numbers between 400 and 424 using for loop\n",
        "#while-combine while loop, if statement and for loop to print numbers, while ans(variable) less than or equal to 5, \n",
        "if ans is 1 print numbers from 1 to 10, \n",
        "when ans is 2 print numbers from 2 to 20, \n",
        "go on till ans =5, when ans is > 5 do not enter while loop"
      ],
      "execution_count": null,
      "outputs": []
    }
  ]
}