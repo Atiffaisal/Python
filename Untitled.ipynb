{
  "nbformat": 4,
  "nbformat_minor": 0,
  "metadata": {
    "colab": {
      "name": "Untitled",
      "provenance": [],
      "collapsed_sections": [],
      "authorship_tag": "ABX9TyPWC9iTIwk2DelGPrPt6Pwe",
      "include_colab_link": true
    },
    "kernelspec": {
      "name": "python3",
      "display_name": "Python 3"
    },
    "language_info": {
      "name": "python"
    }
  },
  "cells": [
    {
      "cell_type": "markdown",
      "metadata": {
        "id": "view-in-github",
        "colab_type": "text"
      },
      "source": [
        "<a href=\"https://colab.research.google.com/github/Atiffaisal/Python/blob/main/Untitled.ipynb\" target=\"_parent\"><img src=\"https://colab.research.google.com/assets/colab-badge.svg\" alt=\"Open In Colab\"/></a>"
      ]
    },
    {
      "cell_type": "code",
      "metadata": {
        "id": "SA5rFejOJeQT",
        "colab": {
          "base_uri": "https://localhost:8080/"
        },
        "outputId": "f9b40f6b-de98-4cb3-ad71-d43c0e067971"
      },
      "source": [
        "List=['1','2','3']\n",
        "List1=['5','6','a','b']\n",
        "print(List+List1)"
      ],
      "execution_count": null,
      "outputs": [
        {
          "output_type": "stream",
          "text": [
            "['1', '2', '3', '5', '6', 'a', 'b']\n"
          ],
          "name": "stdout"
        }
      ]
    },
    {
      "cell_type": "code",
      "metadata": {
        "id": "6-9odMZQFr_U"
      },
      "source": [
        ""
      ],
      "execution_count": null,
      "outputs": []
    },
    {
      "cell_type": "code",
      "metadata": {
        "colab": {
          "base_uri": "https://localhost:8080/"
        },
        "id": "bSSKWNcjLXip",
        "outputId": "3838fc70-c423-45a7-a171-5208fed52e6c"
      },
      "source": [
        " tuple1 = ( 'abcd', 786 , 2.23, 'john', 70.2 )\n",
        "tuple2 = ('5','asd',788)\n",
        "print(tuple1+tuple2)"
      ],
      "execution_count": null,
      "outputs": [
        {
          "output_type": "stream",
          "text": [
            "('abcd', 786, 2.23, 'john', 70.2, '5', 'asd', 788)\n"
          ],
          "name": "stdout"
        }
      ]
    },
    {
      "cell_type": "code",
      "metadata": {
        "colab": {
          "base_uri": "https://localhost:8080/"
        },
        "id": "tuoHwWM9Qy_r",
        "outputId": "a49a243c-cc2c-4ef4-902b-2b9dfe416e46"
      },
      "source": [
        " set1 = {\"apple\", \"banana\", \"cherry\"}\n",
        "print(set1)"
      ],
      "execution_count": null,
      "outputs": [
        {
          "output_type": "stream",
          "text": [
            "{'apple', 'banana', 'cherry'}\n"
          ],
          "name": "stdout"
        }
      ]
    },
    {
      "cell_type": "code",
      "metadata": {
        "id": "b87n2JbKRfP5",
        "colab": {
          "base_uri": "https://localhost:8080/"
        },
        "outputId": "312cd46e-6655-449a-baa2-ed51c140cc0a"
      },
      "source": [
        " set2 = {\"apple\", \"banana\", \"cherry\", \"apple\"}\n",
        "print(len(set2))"
      ],
      "execution_count": null,
      "outputs": [
        {
          "output_type": "stream",
          "text": [
            "3\n"
          ],
          "name": "stdout"
        }
      ]
    },
    {
      "cell_type": "code",
      "metadata": {
        "colab": {
          "base_uri": "https://localhost:8080/"
        },
        "id": "FQVinpMUTXds",
        "outputId": "2059fb65-3b38-4af6-b9b3-c58c68ad7bcb"
      },
      "source": [
        " b=8\n",
        "a=16\n",
        "b+=a #b=b+a\n",
        "print(\"addition of a and b is\" , b)\n",
        "b=8\n",
        "a=16\n",
        "b-=a #b=b-a\n",
        "print(\"substaction of b and a is\",b)\n",
        "b=8\n",
        "a=16\n",
        "a*=b #b=b*a\n",
        "print(\"multipication ofb and a is\", b)\n",
        "b=8\n",
        "a=16\n",
        "b/=a #b=b/a\n",
        "print(\"division of b by a is\", b)\n",
        "b=8\n",
        "a=16\n",
        "b%=a #b=b%a\n",
        "print(\"modulus of b and a is\", b)\n",
        "b=8\n",
        "a=16\n",
        "b**=a # b=b to power a\n",
        "print(\"exponent of b to power a is\", b)\n",
        "b=8\n",
        "a=16\n",
        "b//=a  #b=b//a\n",
        "print(\"floor division of b is\", b)"
      ],
      "execution_count": null,
      "outputs": [
        {
          "output_type": "stream",
          "text": [
            "addition of a and b is 24\n",
            "substaction of b and a is -8\n",
            "multipication ofb and a is 8\n",
            "division of b by a is 0.5\n",
            "modulus of b and a is 8\n",
            "exponent of b to power a is 281474976710656\n",
            "floor division of b is 0\n"
          ],
          "name": "stdout"
        }
      ]
    },
    {
      "cell_type": "code",
      "metadata": {
        "colab": {
          "base_uri": "https://localhost:8080/"
        },
        "id": "tg1pYt7qb4XN",
        "outputId": "a3557347-6513-4603-e1fa-40c567d112ed"
      },
      "source": [
        "English=10\n",
        "Math=20\n",
        "if(Math<English):\n",
        " print('Math is greater than English')\n",
        "else:\n",
        " print('English is greater than Math')"
      ],
      "execution_count": null,
      "outputs": [
        {
          "output_type": "stream",
          "text": [
            "English is greater than Math\n"
          ],
          "name": "stdout"
        }
      ]
    },
    {
      "cell_type": "code",
      "metadata": {
        "colab": {
          "base_uri": "https://localhost:8080/",
          "height": 146
        },
        "id": "-ni3pEPvEL7W",
        "outputId": "a7a4a6e3-e22b-4eff-d120-3898993183e5"
      },
      "source": [
        " \n",
        "print(\"even number between (400 and 424)\\n\")\n",
        "ans=int(input(\"enter a number within (400 and 424)\\n\"))\n",
        " \n",
        "while ans between 400<>424:\n",
        " print ( ans)\n",
        " ans 400<>424   #400=400+2\n",
        " pass"
      ],
      "execution_count": null,
      "outputs": [
        {
          "output_type": "error",
          "ename": "SyntaxError",
          "evalue": "ignored",
          "traceback": [
            "\u001b[0;36m  File \u001b[0;32m\"<ipython-input-14-06725e252071>\"\u001b[0;36m, line \u001b[0;32m5\u001b[0m\n\u001b[0;31m    while ans between 400<>424:\u001b[0m\n\u001b[0m                    ^\u001b[0m\n\u001b[0;31mSyntaxError\u001b[0m\u001b[0;31m:\u001b[0m invalid syntax\n"
          ]
        }
      ]
    },
    {
      "cell_type": "code",
      "metadata": {
        "colab": {
          "base_uri": "https://localhost:8080/"
        },
        "id": "PchECtt_C_h7",
        "outputId": "93aa827d-43b6-4178-ba0d-8072114b9893"
      },
      "source": [
        " \n",
        "class Person: \n",
        " \n",
        "  def setName(self, name):\n",
        " \n",
        "    self.name = name.title()\n",
        " \n",
        "  def getName(self):\n",
        " \n",
        "    return self.name\n",
        " \n",
        "# end of class definition\n",
        " \n",
        "#start of program\n",
        " \n",
        "person1 = Person() #create instance of class\n",
        " \n",
        "person1.setName('mr. ATIF ') #set name\n",
        " \n",
        "print(person1.getName()) # get name"
      ],
      "execution_count": null,
      "outputs": [
        {
          "output_type": "stream",
          "text": [
            "Mr. Atif \n"
          ],
          "name": "stdout"
        }
      ]
    },
    {
      "cell_type": "code",
      "metadata": {
        "id": "fXwnqN8ON7k6",
        "colab": {
          "base_uri": "https://localhost:8080/"
        },
        "outputId": "8f9ce403-ad73-4e52-cac7-27cf7e899f55"
      },
      "source": [
        " \n",
        "class Player:  #Player is object\n",
        " \n",
        "  def setName(self, name):\n",
        " \n",
        "    self.name = name.title()\n",
        " \n",
        "  def getName(self):\n",
        " \n",
        "    return self.name\n",
        " \n",
        "  def setDesc(self, desc):\n",
        " \n",
        "    self.desc = desc.capitalize()\n",
        " \n",
        "  def getDesc(self):\n",
        " \n",
        "    return self.desc\n",
        " \n",
        "player1 = Player()\n",
        " \n",
        "player1.setName('Rahul')\n",
        " \n",
        "player1.setDesc('short, active and sportive')\n",
        " \n",
        "print(\"Name:\",player1.getName(),\"\\ndesc:\",player1.getDesc())"
      ],
      "execution_count": null,
      "outputs": [
        {
          "output_type": "stream",
          "text": [
            "Name: Rahul \n",
            "desc: Short, active and sportive\n"
          ],
          "name": "stdout"
        }
      ]
    },
    {
      "cell_type": "code",
      "metadata": {
        "colab": {
          "base_uri": "https://localhost:8080/"
        },
        "id": "xsxvXzhavJ3y",
        "outputId": "fb1bf0e3-4405-48a1-a888-3259c21d776b"
      },
      "source": [
        " \n",
        "a = 1\n",
        " \n",
        "try:\n",
        "    b = int(input(\"Please enter a number to divide a\"))\n",
        "    a = a/b\n",
        "    print(\"Success a=\",a)\n",
        "except:\n",
        "    print(\"There was an error\")"
      ],
      "execution_count": null,
      "outputs": [
        {
          "output_type": "stream",
          "text": [
            "Please enter a number to divide a4\n",
            "Success a= 0.25\n"
          ],
          "name": "stdout"
        }
      ]
    },
    {
      "cell_type": "code",
      "metadata": {
        "colab": {
          "base_uri": "https://localhost:8080/"
        },
        "id": "q5hP1r3Jw4RU",
        "outputId": "ffb77bfd-0de3-4419-c9fb-c78f8bbaf28b"
      },
      "source": [
        " \n",
        "a = 1\n",
        " \n",
        "try:\n",
        "    b = int(input(\"Please enter a number to divide a \"))\n",
        "    a = a/b\n",
        "    print(\"Success a=\",a)\n",
        "except ZeroDivisionError:\n",
        "    print(\"The number you provided cant divide 1 because it is 0\")\n",
        "except ValueError:\n",
        "    print(\"You did not provide a number\")\n",
        "except:\n",
        "    print(\"Something went wrong\")"
      ],
      "execution_count": null,
      "outputs": [
        {
          "output_type": "stream",
          "text": [
            "Please enter a number to divide a 2\n",
            "Success a= 0.5\n"
          ],
          "name": "stdout"
        }
      ]
    },
    {
      "cell_type": "code",
      "metadata": {
        "colab": {
          "base_uri": "https://localhost:8080/"
        },
        "id": "U4tnykHozm8v",
        "outputId": "a1987087-ac9a-4650-c073-62c65d19dd73"
      },
      "source": [
        " \n",
        "a = 1\n",
        " \n",
        "try:\n",
        "    b = int(input(\"Please enter a number to divide a\"))\n",
        "    a = a/b\n",
        "except ZeroDivisionError:\n",
        "    print(\"The number you provided cant divide 1 because it is 0\")\n",
        "except ValueError:\n",
        "    print(\"You did not provide a number\")\n",
        "except:\n",
        "    print(\"Something went wrong\")\n",
        "else:\n",
        "    print(\"success a=\",a)\n",
        "finally:\n",
        "    print(\"Processing Complete\")"
      ],
      "execution_count": null,
      "outputs": [
        {
          "output_type": "stream",
          "text": [
            "Please enter a number to divide a98\n",
            "success a= 0.01020408163265306\n",
            "Processing Complete\n"
          ],
          "name": "stdout"
        }
      ]
    },
    {
      "cell_type": "code",
      "metadata": {
        "colab": {
          "base_uri": "https://localhost:8080/"
        },
        "id": "ahzTjeaqz5Ls",
        "outputId": "247c50b7-35c5-48ad-d23a-d48f86048f7d"
      },
      "source": [
        " \n",
        "a = 1\n",
        " \n",
        "try:\n",
        "    b = int(input(\"Please enter a number to divide a  \"))\n",
        "    a = a/b\n",
        "except ZeroDivisionError:\n",
        "    print(\"The number you provided cant divide 1 because it is 0\")\n",
        "except ValueError:\n",
        "    print(\"You did not provide a number\")\n",
        "except:\n",
        "    print(\"Something went wrong\")\n",
        "else:\n",
        "    print(\"success a=\",b)"
      ],
      "execution_count": null,
      "outputs": [
        {
          "output_type": "stream",
          "text": [
            "Please enter a number to divide a  60<r\n",
            "You did not provide a number\n"
          ],
          "name": "stdout"
        }
      ]
    },
    {
      "cell_type": "code",
      "metadata": {
        "id": "ZPsXjyu6FuyK"
      },
      "source": [
        ""
      ],
      "execution_count": null,
      "outputs": []
    },
    {
      "cell_type": "code",
      "metadata": {
        "id": "TEJJL802JGFc"
      },
      "source": [
        ""
      ],
      "execution_count": null,
      "outputs": []
    }
  ]
}