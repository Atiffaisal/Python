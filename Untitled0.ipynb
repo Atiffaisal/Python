{
  "nbformat": 4,
  "nbformat_minor": 0,
  "metadata": {
    "colab": {
      "name": "Untitled0.ipynb",
      "provenance": [],
      "authorship_tag": "ABX9TyMec572GDGJPWgz4M/cGRV0",
      "include_colab_link": true
    },
    "kernelspec": {
      "name": "python3",
      "display_name": "Python 3"
    },
    "language_info": {
      "name": "python"
    }
  },
  "cells": [
    {
      "cell_type": "markdown",
      "metadata": {
        "id": "view-in-github",
        "colab_type": "text"
      },
      "source": [
        "<a href=\"https://colab.research.google.com/github/Atiffaisal/Python/blob/main/Untitled0.ipynb\" target=\"_parent\"><img src=\"https://colab.research.google.com/assets/colab-badge.svg\" alt=\"Open In Colab\"/></a>"
      ]
    },
    {
      "cell_type": "code",
      "metadata": {
        "colab": {
          "base_uri": "https://localhost:8080/"
        },
        "id": "NKOgaEuDmopJ",
        "outputId": "11af8f90-1113-4b20-eb0d-0c806f2cb6a3"
      },
      "source": [
        " \n",
        "A={\"Lastname\" : \"Faisal\",\n",
        "\"Teacher\" : \"Pallavi\",\n",
        "\"Name\" : \"Atif\"}\n",
        "print(A.keys())"
      ],
      "execution_count": null,
      "outputs": [
        {
          "output_type": "stream",
          "text": [
            "dict_keys(['Lastname', 'Teacher', 'Name'])\n"
          ],
          "name": "stdout"
        }
      ]
    }
  ]
}