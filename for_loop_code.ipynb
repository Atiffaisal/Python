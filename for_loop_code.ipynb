{
  "nbformat": 4,
  "nbformat_minor": 0,
  "metadata": {
    "colab": {
      "name": "for loop code",
      "provenance": [],
      "collapsed_sections": [],
      "include_colab_link": true
    },
    "kernelspec": {
      "name": "python3",
      "display_name": "Python 3"
    },
    "language_info": {
      "name": "python"
    }
  },
  "cells": [
    {
      "cell_type": "markdown",
      "metadata": {
        "id": "view-in-github",
        "colab_type": "text"
      },
      "source": [
        "<a href=\"https://colab.research.google.com/github/Atiffaisal/Python/blob/main/for_loop_code.ipynb\" target=\"_parent\"><img src=\"https://colab.research.google.com/assets/colab-badge.svg\" alt=\"Open In Colab\"/></a>"
      ]
    },
    {
      "cell_type": "code",
      "metadata": {
        "id": "BxjPstTzId0E",
        "colab": {
          "base_uri": "https://localhost:8080/"
        },
        "outputId": "bd704682-24a9-4e87-bee3-0064d7c38c0b"
      },
      "source": [
        "x=int(input(\"enter a num\"))\n",
        "if x==1:\n",
        "  num=1\n",
        "  for num in range(1, 11):\n",
        "    print(num)\n",
        "    \n",
        "elif x==2:\n",
        "  num=11\n",
        "  for num in range(11, 21):\n",
        "    print(num)\n",
        " \n",
        "elif x==3:\n",
        "  num=21\n",
        "  for num in range(21, 31):\n",
        "    print(num)\n",
        " \n",
        "elif x==4:\n",
        "  num=31\n",
        "  for num in range(31, 41):\n",
        "    print(num)\n",
        " \n",
        "elif x==5:\n",
        "  num=41\n",
        "  for num in range(41, 51):\n",
        "    print(num)"
      ],
      "execution_count": null,
      "outputs": [
        {
          "output_type": "stream",
          "text": [
            "enter a num4\n",
            "31\n",
            "32\n",
            "33\n",
            "34\n",
            "35\n",
            "36\n",
            "37\n",
            "38\n",
            "39\n",
            "40\n"
          ],
          "name": "stdout"
        }
      ]
    },
    {
      "cell_type": "code",
      "metadata": {
        "id": "cyL2OzpTHokZ",
        "colab": {
          "base_uri": "https://localhost:8080/"
        },
        "outputId": "34152433-44f7-4241-9cc3-e9c5f8715168"
      },
      "source": [
        "for num in range(400, 424):\n",
        "  if num%2 == 0: \n",
        "    print(num)"
      ],
      "execution_count": null,
      "outputs": [
        {
          "output_type": "stream",
          "text": [
            "400\n",
            "402\n",
            "404\n",
            "406\n",
            "408\n",
            "410\n",
            "412\n",
            "414\n",
            "416\n",
            "418\n",
            "420\n",
            "422\n"
          ],
          "name": "stdout"
        }
      ]
    },
    {
      "cell_type": "code",
      "metadata": {
        "colab": {
          "base_uri": "https://localhost:8080/"
        },
        "id": "HRMZ7VjvPcNt",
        "outputId": "089ff651-00e5-4fa2-c9f6-2acc7330778c"
      },
      "source": [
        "print(\"enter a number and get next number\")\n",
        "number = int(input(\"enter a number within 1000\\n\"))\n",
        "\n",
        "while number <= 1000:\n",
        "  print(number)\n",
        "  number +=100 #number = number +100\n",
        "  pass"
      ],
      "execution_count": null,
      "outputs": [
        {
          "output_type": "stream",
          "text": [
            "enter a number and get next number\n"
          ],
          "name": "stdout"
        }
      ]
    },
    {
      "cell_type": "code",
      "metadata": {
        "colab": {
          "base_uri": "https://localhost:8080/"
        },
        "id": "qizNVtlQFwwX",
        "outputId": "687beb2b-bcdb-481a-a2c8-8e20e8aec130"
      },
      "source": [
        "number = 20\n",
        " \n",
        "while number <= 30:\n",
        "  print(number)\n",
        "  number +=1\n",
        "  pass"
      ],
      "execution_count": null,
      "outputs": [
        {
          "output_type": "stream",
          "text": [
            "20\n",
            "21\n",
            "22\n",
            "23\n",
            "24\n",
            "25\n",
            "26\n",
            "27\n",
            "28\n",
            "29\n",
            "30\n"
          ],
          "name": "stdout"
        }
      ]
    },
    {
      "cell_type": "code",
      "metadata": {
        "id": "KRYh2OM1rvQ6"
      },
      "source": [
        "#If-elif-else=given three integers, check the largest number out of three numbers\n",
        "#if-else=check weather given number is odd or even using, if-else\n",
        "#while loop=print numbers between 20 and 30 using while loop, inclusive of both numbers\n",
        "print all even numbers between 400 and 424 using for loop\n",
        "#while-combine while loop, if statement and for loop to print numbers, while ans(variable) less than or equal to 5, \n",
        "if ans is 1 print numbers from 1 to 10, \n",
        "when ans is 2 print numbers from 2 to 20, \n",
        "go on till ans =5, when ans is > 5 do not enter while loop"
      ],
      "execution_count": null,
      "outputs": []
    }
  ]
}